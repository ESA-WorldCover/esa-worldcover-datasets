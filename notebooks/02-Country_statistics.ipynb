{
 "cells": [
  {
   "cell_type": "markdown",
   "id": "f1306d43",
   "metadata": {},
   "source": [
    "# Access large areas\n",
    "\n",
    "In the previous notebook `0_access_worldcover_products`, ESA WorldCover 2020 data was loaded and analysed over a small area of interest.\n",
    "\n",
    "In this notebook, WorldCover data in the spatial extend of an entire country will be searched, downloaded and analysed.\n",
    "\n",
    "The entire country of Belgium will be analysed. As the country area interestects with multiple WorldCover rasters, the `rio-tiler` package will be used and is therefore required to run this notebook."
   ]
  },
  {
   "cell_type": "markdown",
   "id": "33513e98",
   "metadata": {},
   "source": [
    "## Find the STAC products for the area of interest"
   ]
  },
  {
   "cell_type": "code",
   "execution_count": 4,
   "id": "e23a03c0",
   "metadata": {},
   "outputs": [
    {
     "data": {
      "text/html": [
       "<div>\n",
       "<style scoped>\n",
       "    .dataframe tbody tr th:only-of-type {\n",
       "        vertical-align: middle;\n",
       "    }\n",
       "\n",
       "    .dataframe tbody tr th {\n",
       "        vertical-align: top;\n",
       "    }\n",
       "\n",
       "    .dataframe thead th {\n",
       "        text-align: right;\n",
       "    }\n",
       "</style>\n",
       "<table border=\"1\" class=\"dataframe\">\n",
       "  <thead>\n",
       "    <tr style=\"text-align: right;\">\n",
       "      <th></th>\n",
       "      <th>pop_est</th>\n",
       "      <th>continent</th>\n",
       "      <th>name</th>\n",
       "      <th>iso_a3</th>\n",
       "      <th>gdp_md_est</th>\n",
       "      <th>geometry</th>\n",
       "    </tr>\n",
       "  </thead>\n",
       "  <tbody>\n",
       "    <tr>\n",
       "      <th>129</th>\n",
       "      <td>11491346</td>\n",
       "      <td>Europe</td>\n",
       "      <td>Belgium</td>\n",
       "      <td>BEL</td>\n",
       "      <td>508600.0</td>\n",
       "      <td>POLYGON ((6.15666 50.80372, 6.04307 50.12805, ...</td>\n",
       "    </tr>\n",
       "  </tbody>\n",
       "</table>\n",
       "</div>"
      ],
      "text/plain": [
       "      pop_est continent     name iso_a3  gdp_md_est  \\\n",
       "129  11491346    Europe  Belgium    BEL    508600.0   \n",
       "\n",
       "                                              geometry  \n",
       "129  POLYGON ((6.15666 50.80372, 6.04307 50.12805, ...  "
      ]
     },
     "execution_count": 4,
     "metadata": {},
     "output_type": "execute_result"
    }
   ],
   "source": [
    "# Load the area of interest geometry (belgium)\n",
    "import geopandas as gpd\n",
    "\n",
    "# Load countries border dataset\n",
    "countries_dataset = gpd.read_file(gpd.datasets.get_path('naturalearth_lowres'))\n",
    "\n",
    "belgium_entry = countries_dataset.loc[countries_dataset['name'] == 'Belgium']\n",
    "belgium_entry"
   ]
  },
  {
   "cell_type": "code",
   "execution_count": 5,
   "id": "c7ab4074",
   "metadata": {},
   "outputs": [
    {
     "data": {
      "text/plain": [
       "[2.5135730322461427, 49.529483547557504, 6.15665815595878, 51.47502370869813]"
      ]
     },
     "execution_count": 5,
     "metadata": {},
     "output_type": "execute_result"
    }
   ],
   "source": [
    "bbox = list(belgium_entry.geometry.bounds.values.squeeze())\n",
    "bbox"
   ]
  },
  {
   "cell_type": "code",
   "execution_count": 6,
   "id": "1a5ec072",
   "metadata": {},
   "outputs": [
    {
     "data": {
      "text/plain": [
       "[<Item id=urn:eop:VITO:ESA_WorldCover_10m_2020_AWS_V1:ESA_WorldCover_10m_2020_v100_N48E000>,\n",
       " <Item id=urn:eop:VITO:ESA_WorldCover_10m_2020_AWS_V1:ESA_WorldCover_10m_2020_v100_N48E003>,\n",
       " <Item id=urn:eop:VITO:ESA_WorldCover_10m_2020_AWS_V1:ESA_WorldCover_10m_2020_v100_N48E006>,\n",
       " <Item id=urn:eop:VITO:ESA_WorldCover_10m_2020_AWS_V1:ESA_WorldCover_10m_2020_v100_N51E000>,\n",
       " <Item id=urn:eop:VITO:ESA_WorldCover_10m_2020_AWS_V1:ESA_WorldCover_10m_2020_v100_N51E003>,\n",
       " <Item id=urn:eop:VITO:ESA_WorldCover_10m_2020_AWS_V1:ESA_WorldCover_10m_2020_v100_N51E006>]"
      ]
     },
     "execution_count": 6,
     "metadata": {},
     "output_type": "execute_result"
    }
   ],
   "source": [
    "from rio_tiler.io import STACReader\n",
    "from rio_tiler.profiles import img_profiles\n",
    "from rio_tiler.models import ImageData\n",
    "import pystac_client\n",
    "import geopandas as gpd\n",
    "\n",
    "# Log in to the terrascope STAC API\n",
    "TERRASCOPE_STAC_API = 'https://services.terrascope.be/stac/'\n",
    "COLLECTION_ID = 'urn:eop:VITO:ESA_WorldCover_10m_2020_AWS_V1'\n",
    "\n",
    "client = pystac_client.Client.open(TERRASCOPE_STAC_API)\n",
    "search = client.search(\n",
    "    max_items=100,\n",
    "    collections=[COLLECTION_ID],\n",
    "    bbox = bbox\n",
    ")\n",
    "\n",
    "result_items = search.get_all_items().items\n",
    "\n",
    "result_items"
   ]
  },
  {
   "cell_type": "code",
   "execution_count": 7,
   "id": "3fe27f67",
   "metadata": {},
   "outputs": [
    {
     "data": {
      "text/plain": [
       "['s3://esa-worldcover/v100/2020/map/ESA_WorldCover_10m_2020_v100_N48E000_Map.tif',\n",
       " 's3://esa-worldcover/v100/2020/map/ESA_WorldCover_10m_2020_v100_N48E003_Map.tif',\n",
       " 's3://esa-worldcover/v100/2020/map/ESA_WorldCover_10m_2020_v100_N48E006_Map.tif',\n",
       " 's3://esa-worldcover/v100/2020/map/ESA_WorldCover_10m_2020_v100_N51E000_Map.tif',\n",
       " 's3://esa-worldcover/v100/2020/map/ESA_WorldCover_10m_2020_v100_N51E003_Map.tif',\n",
       " 's3://esa-worldcover/v100/2020/map/ESA_WorldCover_10m_2020_v100_N51E006_Map.tif']"
      ]
     },
     "execution_count": 7,
     "metadata": {},
     "output_type": "execute_result"
    }
   ],
   "source": [
    "# We got 3 result items, let's get the access links to the rasters\n",
    "result_items_assets = list(map(lambda item: item.assets.get('ESA_WORLDCOVER_10M_MAP').href, result_items))\n",
    "result_items_assets"
   ]
  },
  {
   "cell_type": "markdown",
   "id": "24a171bc",
   "metadata": {},
   "source": [
    "## Parallel access of tiles trough rasterio\n",
    "\n",
    "Using `rasterio`, we will load all the tiles in multiple threads"
   ]
  },
  {
   "cell_type": "code",
   "execution_count": null,
   "id": "3defc319",
   "metadata": {},
   "outputs": [],
   "source": [
    "import rasterio\n",
    "import os\n",
    "import threading\n",
    "\n",
    "os.environ['AWS_NO_SIGN_REQUEST'] = 'YES'\n",
    "\n",
    "# Initialize result array\n",
    "results = [None] * len(result_items_assets)\n",
    "\n",
    "# Function to load the dataset from a remote link\n",
    "def load_dataset(index, path):\n",
    "    with rasterio.open(path, 'r') as src:\n",
    "        # Window on our interest area, we don't want to download all the entire tiles.\n",
    "        interest_window = rasterio.windows.from_bounds(*bbox, transform=src.transform)\n",
    "\n",
    "        data = src.read(1, \n",
    "                        out_dtype=rasterio.uint8,\n",
    "                        window=interest_window)\n",
    "        results[index] = {'data': data, \n",
    "                          'crs': src.crs,\n",
    "                          'transform': src.transform,\n",
    "                          'bounds': src.bounds}\n",
    "\n",
    "# Initialzes all the threads with the asset link parameters \n",
    "thread_pool = [threading.Thread(target=load_dataset, args=(index, asset,)) \n",
    "               for index, asset in enumerate(result_items_assets)]\n",
    "\n",
    "# Starts all the threads\n",
    "for thread in thread_pool:\n",
    "    thread.start()\n",
    "    \n",
    "# Wait that all the threads have finished their job\n",
    "for thread in thread_pool:\n",
    "    thread.join()\n",
    "    \n",
    "results"
   ]
  },
  {
   "cell_type": "markdown",
   "id": "58b71e95",
   "metadata": {},
   "source": [
    "# Recreate the full image from the extracted data"
   ]
  },
  {
   "cell_type": "code",
   "execution_count": null,
   "id": "a8b980be",
   "metadata": {},
   "outputs": [],
   "source": []
  }
 ],
 "metadata": {
  "kernelspec": {
   "display_name": "Python 3 (ipykernel)",
   "language": "python",
   "name": "python3"
  },
  "language_info": {
   "codemirror_mode": {
    "name": "ipython",
    "version": 3
   },
   "file_extension": ".py",
   "mimetype": "text/x-python",
   "name": "python",
   "nbconvert_exporter": "python",
   "pygments_lexer": "ipython3",
   "version": "3.8.13"
  }
 },
 "nbformat": 4,
 "nbformat_minor": 5
}
