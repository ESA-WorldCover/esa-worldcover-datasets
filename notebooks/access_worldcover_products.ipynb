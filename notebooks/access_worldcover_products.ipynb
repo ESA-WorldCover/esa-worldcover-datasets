{
 "cells": [
  {
   "cell_type": "markdown",
   "metadata": {
    "collapsed": true
   },
   "source": [
    "# WorldCover product access\n",
    "\n",
    "This notebook aims to demonstrate how [ESA WorldCover 2020](https://worldcover2020.esa.int/data/docs/WorldCover_PUM_V1.1.pdf) products can be searched and downloaded trough the Terrascope STAC API.\n",
    "\n",
    "A STAC collection referencing all products is available trough the Terrascope STAC Catalog.\n",
    "\n",
    "The WorldCover LCC data around the city of Mol, Belgium will be searched, download, visualized and analysed in this notebook.\n",
    "\n",
    "In this case, the `pystac-client`, `geopandas` and `rasterio` libraries are used to access the data, while `numpy` and `matplotlib` are used for the analysis and the visualisation of the data.\n",
    "\n",
    "More information on how to use `pystac-client` is available in the [following documentation](https://pystac-client.readthedocs.io/en/stable/).\n"
   ]
  },
  {
   "cell_type": "markdown",
   "metadata": {},
   "source": [
    "## Connecting to the Terrascope STAC catalog and search through products"
   ]
  },
  {
   "cell_type": "code",
   "execution_count": 15,
   "metadata": {},
   "outputs": [
    {
     "data": {
      "text/plain": [
       "{'type': 'FeatureCollection',\n",
       " 'features': [{'type': 'Feature',\n",
       "   'stac_version': '1.0.0',\n",
       "   'id': 'urn:eop:VITO:ESA_WorldCover_10m_2020_AWS_V1:ESA_WorldCover_10m_2020_v100_N51E003',\n",
       "   'properties': {'datetime': '2020-12-31T23:59:59Z',\n",
       "    'title': 'ESA_WorldCover_10m_2020_v100_N51E003',\n",
       "    'created': '2022-10-26T13:02:05Z',\n",
       "    'updated': '2022-10-25T13:37:26Z',\n",
       "    'start_datetime': '2020-01-01T00:00:00Z',\n",
       "    'end_datetime': '2020-12-31T23:59:59Z'},\n",
       "   'geometry': {'type': 'Polygon',\n",
       "    'coordinates': [[[3, 54], [3, 51], [6, 51], [6, 54], [3, 54]]]},\n",
       "   'links': [{'rel': 'self',\n",
       "     'href': 'https://services.terrascope.be/stac/collections/urn:eop:VITO:ESA_WorldCover_10m_2020_AWS_V1/items/urn:eop:VITO:ESA_WorldCover_10m_2020_AWS_V1:ESA_WorldCover_10m_2020_v100_N51E003',\n",
       "     'type': 'application/geo+json'},\n",
       "    {'rel': 'parent',\n",
       "     'href': 'https://services.terrascope.be/stac/collections/urn:eop:VITO:ESA_WorldCover_10m_2020_AWS_V1',\n",
       "     'type': 'application/json'},\n",
       "    {'rel': 'collection',\n",
       "     'href': 'https://services.terrascope.be/stac/collections/urn:eop:VITO:ESA_WorldCover_10m_2020_AWS_V1',\n",
       "     'type': 'application/json'},\n",
       "    {'rel': <RelType.ROOT: 'root'>,\n",
       "     'href': 'https://services.terrascope.be/stac/',\n",
       "     'type': <MediaType.JSON: 'application/json'>,\n",
       "     'title': 'Terrascope - STAC API'}],\n",
       "   'assets': {'ESA_WORLDCOVER_10M_MAP': {'href': 's3://esa-worldcover/v100/2020/map/ESA_WorldCover_10m_2020_v100_N51E003_Map.tif',\n",
       "     'type': 'image/tiff',\n",
       "     'title': 'ESA_WORLDCOVER_10M_MAP',\n",
       "     'roles': ['data']}},\n",
       "   'bbox': [3, 51, 6, 54],\n",
       "   'stac_extensions': [],\n",
       "   'collection': 'urn:eop:VITO:ESA_WorldCover_10m_2020_AWS_V1'}]}"
      ]
     },
     "execution_count": 15,
     "metadata": {},
     "output_type": "execute_result"
    }
   ],
   "source": [
    "from pystac_client import Client\n",
    "\n",
    "# Log in to the terrascope STAC API\n",
    "TERRASCOPE_STAC_API = 'https://services.terrascope.be/stac/'\n",
    "COLLECTION_ID = 'urn:eop:VITO:ESA_WorldCover_10m_2020_AWS_V1'\n",
    "BBOX = [5.046776, 51.151453, 5.181290, 51.241861]\n",
    "\n",
    "client = Client.open(TERRASCOPE_STAC_API)\n",
    "\n",
    "# Because the collection is only fixed on the 2020 year, there is no purpose in fixing a temporal criteria.\n",
    "# The bounding box contains the city of Mol, Belgium\n",
    "search_results = client.search(\n",
    "    max_items=10,\n",
    "    collections=[COLLECTION_ID],\n",
    "    bbox=BBOX\n",
    ")\n",
    "\n",
    "# Search results fetched and represented as dictionnary\n",
    "results = search_results.get_all_items()\n",
    "results.to_dict()"
   ]
  },
  {
   "cell_type": "code",
   "execution_count": 2,
   "metadata": {},
   "outputs": [
    {
     "data": {
      "text/plain": [
       "{'ESA_WORLDCOVER_10M_MAP': <Asset href=s3://esa-worldcover/v100/2020/map/ESA_WorldCover_10m_2020_v100_N51E003_Map.tif>}"
      ]
     },
     "execution_count": 2,
     "metadata": {},
     "output_type": "execute_result"
    }
   ],
   "source": [
    "# We are interested into downloading the first item of our search query.\n",
    "interest_item = results.items[0]\n",
    "\n",
    "# Each STAC item can contains assets, usually downloadable contents such as Rasters.\n",
    "\n",
    "# List the available assets for the selection item\n",
    "interest_item.assets"
   ]
  },
  {
   "cell_type": "code",
   "execution_count": 3,
   "metadata": {},
   "outputs": [
    {
     "data": {
      "text/plain": [
       "{'href': 's3://esa-worldcover/v100/2020/map/ESA_WorldCover_10m_2020_v100_N51E003_Map.tif',\n",
       " 'type': 'image/tiff',\n",
       " 'title': 'ESA_WORLDCOVER_10M_MAP',\n",
       " 'roles': ['data']}"
      ]
     },
     "execution_count": 3,
     "metadata": {},
     "output_type": "execute_result"
    }
   ],
   "source": [
    "# There is only one asset available, containing a href to download our product's raster.\n",
    "item_asset = interest_item.assets['ESA_WORLDCOVER_10M_MAP']\n",
    "item_asset.to_dict()"
   ]
  },
  {
   "cell_type": "markdown",
   "metadata": {},
   "source": [
    "## Download of the interest worldcover product\n",
    "\n",
    "Now that we found all the necessary information to access the product raster, let's download it using `rasterio`."
   ]
  },
  {
   "cell_type": "code",
   "execution_count": 20,
   "metadata": {},
   "outputs": [
    {
     "data": {
      "text/plain": [
       "CRS.from_epsg(4326)"
      ]
     },
     "execution_count": 20,
     "metadata": {},
     "output_type": "execute_result"
    }
   ],
   "source": [
    "raster_crs"
   ]
  },
  {
   "cell_type": "code",
   "execution_count": 21,
   "metadata": {},
   "outputs": [
    {
     "data": {
      "text/plain": [
       "Affine(8.333333333333333e-05, 0.0, 3.0,\n",
       "       0.0, -8.333333333333333e-05, 54.0)"
      ]
     },
     "execution_count": 21,
     "metadata": {},
     "output_type": "execute_result"
    }
   ],
   "source": [
    "raster_transform"
   ]
  },
  {
   "cell_type": "code",
   "execution_count": 22,
   "metadata": {},
   "outputs": [
    {
     "ename": "WindowError",
     "evalue": "Bounds and transform are inconsistent",
     "output_type": "error",
     "traceback": [
      "\u001B[0;31m---------------------------------------------------------------------------\u001B[0m",
      "\u001B[0;31mWindowError\u001B[0m                               Traceback (most recent call last)",
      "Input \u001B[0;32mIn [22]\u001B[0m, in \u001B[0;36m<cell line: 9>\u001B[0;34m()\u001B[0m\n\u001B[1;32m      9\u001B[0m \u001B[38;5;28;01mwith\u001B[39;00m rasterio\u001B[38;5;241m.\u001B[39mopen(item_asset\u001B[38;5;241m.\u001B[39mhref, \u001B[38;5;124m'\u001B[39m\u001B[38;5;124mr\u001B[39m\u001B[38;5;124m'\u001B[39m) \u001B[38;5;28;01mas\u001B[39;00m src:\n\u001B[1;32m     10\u001B[0m     \u001B[38;5;66;03m# Create a reading window from our BBOX (the spatial resolution of the WorldCover products is 10px/m)\u001B[39;00m\n\u001B[1;32m     11\u001B[0m     transform \u001B[38;5;241m=\u001B[39m rasterio\u001B[38;5;241m.\u001B[39mtransform\u001B[38;5;241m.\u001B[39mfrom_bounds(\u001B[38;5;241m*\u001B[39mBBOX, width\u001B[38;5;241m=\u001B[39msrc\u001B[38;5;241m.\u001B[39mtransform[\u001B[38;5;241m0\u001B[39m], height\u001B[38;5;241m=\u001B[39msrc\u001B[38;5;241m.\u001B[39mtransform[\u001B[38;5;241m4\u001B[39m])\n\u001B[0;32m---> 12\u001B[0m     reading_window \u001B[38;5;241m=\u001B[39m \u001B[43mrasterio\u001B[49m\u001B[38;5;241;43m.\u001B[39;49m\u001B[43mwindows\u001B[49m\u001B[38;5;241;43m.\u001B[39;49m\u001B[43mfrom_bounds\u001B[49m\u001B[43m(\u001B[49m\u001B[38;5;241;43m*\u001B[39;49m\u001B[43mBBOX\u001B[49m\u001B[43m,\u001B[49m\u001B[43m \u001B[49m\u001B[43mtransform\u001B[49m\u001B[43m)\u001B[49m\n\u001B[1;32m     14\u001B[0m     \u001B[38;5;66;03m# Read the raster data\u001B[39;00m\n\u001B[1;32m     15\u001B[0m     raster_data \u001B[38;5;241m=\u001B[39m src\u001B[38;5;241m.\u001B[39mread(\u001B[38;5;241m1\u001B[39m, window\u001B[38;5;241m=\u001B[39mreading_window)\n",
      "File \u001B[0;32m~/miniconda3/envs/worldcover-stac/lib/python3.8/site-packages/rasterio/windows.py:300\u001B[0m, in \u001B[0;36mfrom_bounds\u001B[0;34m(left, bottom, right, top, transform, height, width, precision)\u001B[0m\n\u001B[1;32m    297\u001B[0m     \u001B[38;5;28;01mraise\u001B[39;00m WindowError(\u001B[38;5;124m\"\u001B[39m\u001B[38;5;124mBounds and transform are inconsistent\u001B[39m\u001B[38;5;124m\"\u001B[39m)\n\u001B[1;32m    299\u001B[0m \u001B[38;5;28;01mif\u001B[39;00m (bottom \u001B[38;5;241m-\u001B[39m top) \u001B[38;5;241m/\u001B[39m transform\u001B[38;5;241m.\u001B[39me \u001B[38;5;241m<\u001B[39m \u001B[38;5;241m0\u001B[39m:\n\u001B[0;32m--> 300\u001B[0m     \u001B[38;5;28;01mraise\u001B[39;00m WindowError(\u001B[38;5;124m\"\u001B[39m\u001B[38;5;124mBounds and transform are inconsistent\u001B[39m\u001B[38;5;124m\"\u001B[39m)\n\u001B[1;32m    302\u001B[0m \u001B[38;5;28;01mif\u001B[39;00m height \u001B[38;5;129;01mis\u001B[39;00m \u001B[38;5;28;01mNone\u001B[39;00m \u001B[38;5;129;01mor\u001B[39;00m width \u001B[38;5;129;01mis\u001B[39;00m \u001B[38;5;129;01mnot\u001B[39;00m \u001B[38;5;28;01mNone\u001B[39;00m:\n\u001B[1;32m    303\u001B[0m     \u001B[38;5;66;03m# TODO: raise a deprecation warning in version 1.3.0.\u001B[39;00m\n\u001B[1;32m    304\u001B[0m     \u001B[38;5;28;01mpass\u001B[39;00m\n",
      "\u001B[0;31mWindowError\u001B[0m: Bounds and transform are inconsistent"
     ]
    }
   ],
   "source": [
    "# Open the image and download the data with rasterio.\n",
    "import rasterio\n",
    "import os\n",
    "\n",
    "# The WorldCover products are available on a free AWS S3 bucket. \n",
    "# Settings this environment variable is required so that rasterio does not try to find AWS Tokens.\n",
    "os.environ['AWS_NO_SIGN_REQUEST'] = 'YES'\n",
    "\n",
    "with rasterio.open(item_asset.href, 'r') as src:\n",
    "    # Create a reading window from our BBOX (the spatial resolution of the WorldCover products is 10px/m)\n",
    "    transform = rasterio.transform.from_bounds(*BBOX, width=src.transform[0], height=src.transform[4])\n",
    "    reading_window = rasterio.windows.from_bounds(*BBOX, transform)\n",
    "    \n",
    "    # Read the raster data\n",
    "    raster_data = src.read(1, window=reading_window)\n",
    "    \n",
    "raster_data"
   ]
  },
  {
   "cell_type": "markdown",
   "metadata": {},
   "source": [
    "## Visualisation of the downloaded map\n",
    "\n",
    "Let's see the WorldCover map using `matplotlib`.\n",
    "\n",
    "A small class as well as a function are defined here to convert our raster pixel values to the corresponsing WorldCover legend's colors."
   ]
  },
  {
   "cell_type": "code",
   "execution_count": 13,
   "metadata": {},
   "outputs": [],
   "source": [
    "import enum\n",
    "\n",
    "class LabelsColors(enum.Enum):\n",
    "\n",
    "    # 10,0,100,0,255,Trees covered area\n",
    "    # 20,255,187,34,255,Shrub covered area\n",
    "    # 30,255,255,76,255,Grassland\n",
    "    # 40,240,150,255,255,Cropland\n",
    "    # 50,250,0,0,255,Built-up\n",
    "    # 60,180,180,180,255,Bare areas\n",
    "    # 70,240,240,240,255,Snow and/or ice cover\n",
    "    # 80,0,100,200,255,Permament water bodies\n",
    "    # 90,0,150,160,255,Herbaceous wetland\n",
    "    # 95,0,207,117,255,Mangroves\n",
    "    # 100,250,230,160,255,Lichens and mosses\n",
    "\n",
    "    NO_DATA = (0, 'nodata', 'Not sure', 'No Data', np.array([0, 0, 0]))\n",
    "    TREE = (10, 'tree', 'tree', 'Trees covered area',\n",
    "            np.array([0, 100, 0]) / 255)\n",
    "    SHRUB = (20, 'shrub', 'shrub', 'Shrub cover area',\n",
    "             np.array([255, 187, 34]) / 255)\n",
    "    GRASS = (30, 'grass', 'grassland', 'Grassland',\n",
    "             np.array([255, 255, 76]) / 255)\n",
    "    CROP = (40, 'crop', 'crops', 'Cropland', np.array([240, 150, 255]) / 255)\n",
    "    BUILT = (50, 'built', 'urban/built-up',\n",
    "             'Built-up', np.array([250, 0, 0]) / 255)\n",
    "    BARE = (60, 'bare', 'bare', 'Bare areas', np.array([180, 180, 180]) / 255)\n",
    "    SNOW_AND_ICE = (70, 'snow', 'snow and ice', 'Snow and/or ice cover',\n",
    "                    np.array([240, 240, 240]) / 255)\n",
    "    WATER = (80, 'water', 'water', 'Permanent water',\n",
    "             np.array([0, 100, 200]) / 255)\n",
    "    WETLAND = (90, 'wetland', 'wetland (herbaceous)', 'Herbaceous wetland',\n",
    "               np.array([0, 150, 160]) / 255)\n",
    "    MANGROVES = (95, 'mangroves', None, 'Mangroves',\n",
    "                 np.array([0, 207, 117]) / 255)\n",
    "    LICHENS = (100, 'lichens_mosses', 'Lichen and moss', 'Lichen and moss',\n",
    "               np.array([250, 230, 160]) / 255)\n",
    "\n",
    "    def __init__(self, val1, val2, val3, val4, val5):\n",
    "        self.id = val1\n",
    "        self.class_name = val2\n",
    "        self.iiasa_name = val3\n",
    "        self.esa_class_name = val4\n",
    "        self.color = val5\n",
    "\n",
    "\n",
    "def label_to_rgb(lc_pred, colors_enum=None):\n",
    "\n",
    "    colors_enum = LabelsColors if colors_enum is None else colors_enum\n",
    "\n",
    "    colors = {lc.id: {'name': lc.class_name,\n",
    "                      'color': lc.color}\n",
    "              for lc in colors_enum}\n",
    "\n",
    "    # add missing labels from OSM and GSW\n",
    "    colors[51] = colors[50]\n",
    "    colors[81] = colors[80]\n",
    "    colors[61] = colors[60]\n",
    "    colors[91] = colors[0]\n",
    "    colors[92] = colors[20]\n",
    "    colors[93] = colors[95]\n",
    "    colors[94] = colors[0]\n",
    "\n",
    "    rgb_pred = np.zeros((lc_pred.shape[0],\n",
    "                         lc_pred.shape[1],\n",
    "                         3))\n",
    "\n",
    "    for k, v in colors.items():\n",
    "        for ch in range(3):\n",
    "            im = rgb_pred[:, :, ch]\n",
    "            im[lc_pred == k] = v['color'][ch]\n",
    "\n",
    "    return rgb_pred\n",
    "\n",
    "\n",
    "# Translation of WorldCover integer values to land cover type name\n",
    "lc_types = {\n",
    "    0: 'Not available',\n",
    "    10: 'Tree cover',\n",
    "    20: 'Shrubland', \n",
    "    30: 'Grassland', \n",
    "    40: 'Cropland',\n",
    "    50: 'Built-up',\n",
    "    60: 'Base/Sparse vegetation',\n",
    "    70: 'Snow and ice',\n",
    "    80: 'Permanent water bodies',\n",
    "    90: 'Herbaceous wetland',\n",
    "    95: 'Mangroves',\n",
    "    100: 'Moss and Lichen'\n",
    "}"
   ]
  },
  {
   "cell_type": "code",
   "execution_count": 26,
   "metadata": {},
   "outputs": [
    {
     "data": {
      "image/png": "[encoded data removed]",
      "text/plain": [
       "<Figure size 800x800 with 1 Axes>"
      ]
     },
     "metadata": {},
     "output_type": "display_data"
    }
   ],
   "source": [
    "rgb_data = label_to_rgb(raster_data)\n",
    "fig, ax = plt.subplots(figsize=(8, 8))\n",
    "ax.imshow(rgb_data)\n",
    "fig.show()"
   ]
  },
  {
   "cell_type": "markdown",
   "metadata": {},
   "source": [
    "## Analysis of the downloaded land cover map\n",
    "\n",
    "We will create a pie chart giving the proportion of land cover classes in our study region"
   ]
  },
  {
   "cell_type": "code",
   "execution_count": 27,
   "metadata": {},
   "outputs": [
    {
     "name": "stdout",
     "output_type": "stream",
     "text": [
      "[0] [100]\n"
     ]
    },
    {
     "data": {
      "image/png": "[encoded data removed]",
      "text/plain": [
       "<Figure size 600x600 with 1 Axes>"
      ]
     },
     "metadata": {},
     "output_type": "display_data"
    }
   ],
   "source": [
    "import matplotlib.pyplot as plt\n",
    "import numpy as np\n",
    "\n",
    "# Count the number of occurences (in pixels) for each class of the WorldCover product. \n",
    "values, occurences = np.unique(raster_data, return_counts=True)\n",
    "print(values, occurences)\n",
    "\n",
    "# Show a pie chart representing the percentage of present in the \n",
    "lc_labels = list(map(lambda val: lc_types[val], values))\n",
    "\n",
    "fig, ax = plt.subplots(figsize=(6, 6))\n",
    "\n",
    "\n",
    "\n",
    "ax.pie(occurences[1:],labels=lc_labels[1:], autopct='%1.1f%%',\n",
    "        shadow=True, startangle=90)\n",
    "fig.show()"
   ]
  },
  {
   "cell_type": "code",
   "execution_count": null,
   "metadata": {},
   "outputs": [],
   "source": []
  }
 ],
 "metadata": {
  "kernelspec": {
   "display_name": "Python 3 (ipykernel)",
   "language": "python",
   "name": "python3"
  },
  "language_info": {
   "codemirror_mode": {
    "name": "ipython",
    "version": 3
   },
   "file_extension": ".py",
   "mimetype": "text/x-python",
   "name": "python",
   "nbconvert_exporter": "python",
   "pygments_lexer": "ipython3",
   "version": "3.8.13"
  }
 },
 "nbformat": 4,
 "nbformat_minor": 1
}
