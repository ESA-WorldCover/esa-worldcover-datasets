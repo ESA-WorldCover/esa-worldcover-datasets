{
 "cells": [
  {
   "cell_type": "markdown",
   "id": "f1306d43",
   "metadata": {},
   "source": [
    "# Access large areas\n",
    "\n",
    "In the previous notebook `0_access_worldcover_products`, ESA WorldCover 2020 data was loaded and analysed over a small area of interest.\n",
    "\n",
    "In this notebook, WorldCover data in the spatial extend of an entire country will be searched, downloaded and analysed.\n",
    "\n",
    "The entire country of Belgium will be analysed. As the country area interestects with multiple WorldCover rasters, the `rio-tiler` package will be used and is therefore required to run this notebook."
   ]
  },
  {
   "cell_type": "markdown",
   "id": "33513e98",
   "metadata": {},
   "source": [
    "## Find the STAC products for the area of interest"
   ]
  },
  {
   "cell_type": "code",
   "execution_count": 1,
   "id": "e23a03c0",
   "metadata": {},
   "outputs": [
    {
     "data": {
      "text/html": [
       "<div>\n",
       "<style scoped>\n",
       "    .dataframe tbody tr th:only-of-type {\n",
       "        vertical-align: middle;\n",
       "    }\n",
       "\n",
       "    .dataframe tbody tr th {\n",
       "        vertical-align: top;\n",
       "    }\n",
       "\n",
       "    .dataframe thead th {\n",
       "        text-align: right;\n",
       "    }\n",
       "</style>\n",
       "<table border=\"1\" class=\"dataframe\">\n",
       "  <thead>\n",
       "    <tr style=\"text-align: right;\">\n",
       "      <th></th>\n",
       "      <th>pop_est</th>\n",
       "      <th>continent</th>\n",
       "      <th>name</th>\n",
       "      <th>iso_a3</th>\n",
       "      <th>gdp_md_est</th>\n",
       "      <th>geometry</th>\n",
       "    </tr>\n",
       "  </thead>\n",
       "  <tbody>\n",
       "    <tr>\n",
       "      <th>129</th>\n",
       "      <td>11491346</td>\n",
       "      <td>Europe</td>\n",
       "      <td>Belgium</td>\n",
       "      <td>BEL</td>\n",
       "      <td>508600.0</td>\n",
       "      <td>POLYGON ((6.15666 50.80372, 6.04307 50.12805, ...</td>\n",
       "    </tr>\n",
       "  </tbody>\n",
       "</table>\n",
       "</div>"
      ],
      "text/plain": [
       "      pop_est continent     name iso_a3  gdp_md_est  \\\n",
       "129  11491346    Europe  Belgium    BEL    508600.0   \n",
       "\n",
       "                                              geometry  \n",
       "129  POLYGON ((6.15666 50.80372, 6.04307 50.12805, ...  "
      ]
     },
     "execution_count": 1,
     "metadata": {},
     "output_type": "execute_result"
    }
   ],
   "source": [
    "# Load the area of interest geometry (belgium)\n",
    "import geopandas as gpd\n",
    "\n",
    "# Load countries border dataset\n",
    "countries_dataset = gpd.read_file(gpd.datasets.get_path('naturalearth_lowres'))\n",
    "\n",
    "belgium_entry = countries_dataset.loc[countries_dataset['name'] == 'Belgium']\n",
    "belgium_entry"
   ]
  },
  {
   "cell_type": "code",
   "execution_count": 2,
   "id": "c7ab4074",
   "metadata": {},
   "outputs": [
    {
     "data": {
      "text/plain": [
       "[2.5135730322461427, 49.529483547557504, 6.15665815595878, 51.47502370869813]"
      ]
     },
     "execution_count": 2,
     "metadata": {},
     "output_type": "execute_result"
    }
   ],
   "source": [
    "bbox = list(belgium_entry.geometry.bounds.values.squeeze())\n",
    "bbox"
   ]
  },
  {
   "cell_type": "code",
   "execution_count": 3,
   "id": "1a5ec072",
   "metadata": {},
   "outputs": [
    {
     "data": {
      "text/plain": [
       "[<Item id=urn:eop:VITO:ESA_WorldCover_10m_2020_AWS_V1:ESA_WorldCover_10m_2020_v100_N48E000>,\n",
       " <Item id=urn:eop:VITO:ESA_WorldCover_10m_2020_AWS_V1:ESA_WorldCover_10m_2020_v100_N48E003>,\n",
       " <Item id=urn:eop:VITO:ESA_WorldCover_10m_2020_AWS_V1:ESA_WorldCover_10m_2020_v100_N48E006>,\n",
       " <Item id=urn:eop:VITO:ESA_WorldCover_10m_2020_AWS_V1:ESA_WorldCover_10m_2020_v100_N51E000>,\n",
       " <Item id=urn:eop:VITO:ESA_WorldCover_10m_2020_AWS_V1:ESA_WorldCover_10m_2020_v100_N51E003>,\n",
       " <Item id=urn:eop:VITO:ESA_WorldCover_10m_2020_AWS_V1:ESA_WorldCover_10m_2020_v100_N51E006>]"
      ]
     },
     "execution_count": 3,
     "metadata": {},
     "output_type": "execute_result"
    }
   ],
   "source": [
    "from rio_tiler.io import STACReader\n",
    "from rio_tiler.profiles import img_profiles\n",
    "from rio_tiler.models import ImageData\n",
    "import pystac_client\n",
    "import geopandas as gpd\n",
    "\n",
    "# Log in to the terrascope STAC API\n",
    "TERRASCOPE_STAC_API = 'https://services.terrascope.be/stac/'\n",
    "COLLECTION_ID = 'urn:eop:VITO:ESA_WorldCover_10m_2020_AWS_V1'\n",
    "\n",
    "client = pystac_client.Client.open(TERRASCOPE_STAC_API)\n",
    "search = client.search(\n",
    "    max_items=100,\n",
    "    collections=[COLLECTION_ID],\n",
    "    bbox = bbox\n",
    ")\n",
    "\n",
    "result_items = search.get_all_items().items\n",
    "\n",
    "result_items"
   ]
  },
  {
   "cell_type": "code",
   "execution_count": 4,
   "id": "3fe27f67",
   "metadata": {},
   "outputs": [
    {
     "data": {
      "text/plain": [
       "['s3://esa-worldcover/v100/2020/map/ESA_WorldCover_10m_2020_v100_N48E000_Map.tif',\n",
       " 's3://esa-worldcover/v100/2020/map/ESA_WorldCover_10m_2020_v100_N48E003_Map.tif',\n",
       " 's3://esa-worldcover/v100/2020/map/ESA_WorldCover_10m_2020_v100_N48E006_Map.tif',\n",
       " 's3://esa-worldcover/v100/2020/map/ESA_WorldCover_10m_2020_v100_N51E000_Map.tif',\n",
       " 's3://esa-worldcover/v100/2020/map/ESA_WorldCover_10m_2020_v100_N51E003_Map.tif',\n",
       " 's3://esa-worldcover/v100/2020/map/ESA_WorldCover_10m_2020_v100_N51E006_Map.tif']"
      ]
     },
     "execution_count": 4,
     "metadata": {},
     "output_type": "execute_result"
    }
   ],
   "source": [
    "# We got 3 result items, let's get the access links to the rasters\n",
    "result_items_assets = list(map(lambda item: item.assets.get('ESA_WORLDCOVER_10M_MAP').href, result_items))\n",
    "result_items_assets"
   ]
  },
  {
   "cell_type": "markdown",
   "id": "fc2dc23f",
   "metadata": {},
   "source": [
    "## Parallel loading of tiles with rio-tiler\n",
    "\n",
    "Using the `rio_tiler.mosaic.mosaic_reader` method, we read the multiple assets found in our STAC catalog to create a mosaic"
   ]
  },
  {
   "cell_type": "markdown",
   "id": "1b36dd5d",
   "metadata": {},
   "source": [
    "from rio_tiler.mosaic import mosaic_reader\n",
    "from rio_tiler.io import STACReader\n",
    "\n",
    "import boto3\n",
    "from botocore import UNSIGNED\n",
    "from botocore.client import Config\n",
    "\n",
    "import os\n",
    "\n",
    "\n",
    "# As we do not need to identify, we set the \n",
    "\n",
    "client = boto3.client('s3', config=Config(signature_version=UNSIGNED))# Define the function to access tile data\n",
    "def tiler(asset, *args, **kwargs):\n",
    "    with STACReader(asset, fetch_options={\"request_pays\": False,\n",
    "                                          \"client\": client}) as src:\n",
    "        return src.tile(*args, **kwargs)\n",
    "\n",
    "image, used_assets = mosaic_reader(\n",
    "    result_items_assets,\n",
    "    tiler,\n",
    "    threads=2\n",
    ")\n",
    "\n",
    "print(used_assets)\n",
    "print(image)"
   ]
  },
  {
   "cell_type": "markdown",
   "id": "24a171bc",
   "metadata": {},
   "source": [
    "## Parallel access of tiles trough rasterio\n",
    "\n",
    "Using `rasterio`, we will load all the tiles in multiple threads"
   ]
  },
  {
   "cell_type": "code",
   "execution_count": 9,
   "id": "3defc319",
   "metadata": {},
   "outputs": [
    {
     "data": {
      "text/plain": [
       "[{'data': array([[40, 40, 40, ..., 30, 30, 40],\n",
       "         [40, 40, 40, ..., 30, 30, 30],\n",
       "         [40, 40, 40, ..., 30, 30, 30],\n",
       "         ...,\n",
       "         [40, 40, 40, ..., 10, 10, 10],\n",
       "         [40, 40, 40, ..., 10, 10, 10],\n",
       "         [40, 40, 40, ..., 10, 10, 10]], dtype=uint8),\n",
       "  'crs': CRS.from_epsg(4326),\n",
       "  'transform': Affine(8.333333333333333e-05, 0.0, 0.0,\n",
       "         0.0, -8.333333333333333e-05, 51.0)},\n",
       " {'data': array([[40, 40, 40, ..., 30, 30, 30],\n",
       "         [30, 30, 30, ..., 30, 30, 30],\n",
       "         [30, 30, 30, ..., 30, 30, 30],\n",
       "         ...,\n",
       "         [10, 10, 10, ..., 40, 30, 30],\n",
       "         [10, 10, 10, ..., 30, 30, 30],\n",
       "         [10, 10, 10, ..., 30, 30, 30]], dtype=uint8),\n",
       "  'crs': CRS.from_epsg(4326),\n",
       "  'transform': Affine(8.333333333333333e-05, 0.0, 3.0,\n",
       "         0.0, -8.333333333333333e-05, 51.0)},\n",
       " {'data': array([[30, 30, 10, ..., 40, 40, 40],\n",
       "         [30, 30, 10, ..., 40, 40, 40],\n",
       "         [30, 30, 10, ..., 40, 40, 40],\n",
       "         ...,\n",
       "         [30, 30, 30, ..., 30, 10, 10],\n",
       "         [30, 30, 30, ..., 40, 40, 10],\n",
       "         [30, 30, 30, ..., 40, 40, 10]], dtype=uint8),\n",
       "  'crs': CRS.from_epsg(4326),\n",
       "  'transform': Affine(8.333333333333333e-05, 0.0, 6.0,\n",
       "         0.0, -8.333333333333333e-05, 51.0)},\n",
       " {'data': array([[ 0,  0,  0, ..., 80, 80, 80],\n",
       "         [ 0,  0,  0, ..., 80, 80, 80],\n",
       "         [ 0,  0,  0, ..., 80, 80, 80],\n",
       "         ...,\n",
       "         [40, 40, 40, ..., 40, 40, 40],\n",
       "         [40, 40, 40, ..., 40, 40, 40],\n",
       "         [40, 40, 40, ..., 40, 40, 40]], dtype=uint8),\n",
       "  'crs': CRS.from_epsg(4326),\n",
       "  'transform': Affine(8.333333333333333e-05, 0.0, 0.0,\n",
       "         0.0, -8.333333333333333e-05, 54.0)},\n",
       " {'data': array([[80, 80, 80, ..., 40, 40, 40],\n",
       "         [80, 80, 80, ..., 40, 40, 40],\n",
       "         [80, 80, 80, ..., 40, 40, 40],\n",
       "         ...,\n",
       "         [40, 40, 40, ..., 30, 30, 30],\n",
       "         [40, 40, 40, ..., 30, 30, 30],\n",
       "         [40, 40, 40, ..., 30, 30, 30]], dtype=uint8),\n",
       "  'crs': CRS.from_epsg(4326),\n",
       "  'transform': Affine(8.333333333333333e-05, 0.0, 3.0,\n",
       "         0.0, -8.333333333333333e-05, 54.0)},\n",
       " {'data': array([[40, 40, 40, ..., 10, 30, 30],\n",
       "         [40, 40, 40, ..., 30, 30, 30],\n",
       "         [40, 40, 40, ..., 30, 30, 30],\n",
       "         ...,\n",
       "         [30, 30, 30, ..., 40, 40, 40],\n",
       "         [30, 30, 30, ..., 40, 40, 40],\n",
       "         [30, 30, 30, ..., 40, 40, 40]], dtype=uint8),\n",
       "  'crs': CRS.from_epsg(4326),\n",
       "  'transform': Affine(8.333333333333333e-05, 0.0, 6.0,\n",
       "         0.0, -8.333333333333333e-05, 54.0)}]"
      ]
     },
     "execution_count": 9,
     "metadata": {},
     "output_type": "execute_result"
    }
   ],
   "source": [
    "import rasterio\n",
    "import os\n",
    "import threading\n",
    "\n",
    "os.environ['AWS_NO_SIGN_REQUEST'] = 'YES'\n",
    "\n",
    "# Initialize result array\n",
    "results = [None] * len(result_items_assets)\n",
    "\n",
    "# Function to load the dataset from a remote link\n",
    "def load_dataset(index, path):\n",
    "    with rasterio.open(path, 'r') as src:\n",
    "        # Window on our interest area, we don't want to download all the entire tiles.\n",
    "        interest_window = rasterio.windows.from_bounds(*bbox, transform=src.transform)\n",
    "\n",
    "        data = src.read(1, \n",
    "                        out_dtype=rasterio.uint8,\n",
    "                        window=interest_window)\n",
    "        crs = src.crs\n",
    "        transform = src.transform\n",
    "    results[index] = {'data': data, 'crs': crs, 'transform': transform}\n",
    "\n",
    "# Initialzes all the threads with the asset link parameters \n",
    "thread_pool = [threading.Thread(target=load_dataset, args=(index, asset,)) \n",
    "               for index, asset in enumerate(result_items_assets)]\n",
    "\n",
    "# Starts all the threads\n",
    "for thread in thread_pool:\n",
    "    thread.start()\n",
    "    \n",
    "# Wait that all the threads have finished their job\n",
    "for thread in thread_pool:\n",
    "    thread.join()\n",
    "    \n",
    "results"
   ]
  },
  {
   "cell_type": "markdown",
   "id": "58b71e95",
   "metadata": {},
   "source": [
    "# Recreate the full image from the extracted data"
   ]
  },
  {
   "cell_type": "code",
   "execution_count": 11,
   "id": "84b0ecdf",
   "metadata": {},
   "outputs": [
    {
     "name": "stdout",
     "output_type": "stream",
     "text": [
      "(17646, 5837)\n",
      "(17646, 36000)\n",
      "(17646, 1879)\n",
      "(5700, 5837)\n",
      "(5700, 36000)\n",
      "(5700, 1879)\n"
     ]
    }
   ],
   "source": [
    "for res in results:\n",
    "    print(res['data'].shape)"
   ]
  },
  {
   "cell_type": "code",
   "execution_count": null,
   "id": "bf9740f7",
   "metadata": {},
   "outputs": [],
   "source": [
    "import tempdir\n",
    "\n",
    "tempfile = NamedTemporaryFile()\n",
    "\n",
    "with rasterio.open()"
   ]
  }
 ],
 "metadata": {
  "kernelspec": {
   "display_name": "Python 3 (ipykernel)",
   "language": "python",
   "name": "python3"
  },
  "language_info": {
   "codemirror_mode": {
    "name": "ipython",
    "version": 3
   },
   "file_extension": ".py",
   "mimetype": "text/x-python",
   "name": "python",
   "nbconvert_exporter": "python",
   "pygments_lexer": "ipython3",
   "version": "3.8.13"
  }
 },
 "nbformat": 4,
 "nbformat_minor": 5
}
